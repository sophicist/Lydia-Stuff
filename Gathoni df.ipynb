{
 "cells": [
  {
   "cell_type": "markdown",
   "metadata": {},
   "source": [
    "# <font color = \"red\" >Import the Data</font>"
   ]
  },
  {
   "cell_type": "code",
   "execution_count": 3,
   "metadata": {},
   "outputs": [],
   "source": [
    "import pandas as pd\n",
    "df =  pd.read_csv(\"leandata.csv\")"
   ]
  },
  {
   "cell_type": "code",
   "execution_count": 8,
   "metadata": {},
   "outputs": [
    {
     "data": {
      "text/html": [
       "<div>\n",
       "<style scoped>\n",
       "    .dataframe tbody tr th:only-of-type {\n",
       "        vertical-align: middle;\n",
       "    }\n",
       "\n",
       "    .dataframe tbody tr th {\n",
       "        vertical-align: top;\n",
       "    }\n",
       "\n",
       "    .dataframe thead th {\n",
       "        text-align: right;\n",
       "    }\n",
       "</style>\n",
       "<table border=\"1\" class=\"dataframe\">\n",
       "  <thead>\n",
       "    <tr style=\"text-align: right;\">\n",
       "      <th></th>\n",
       "      <th>Unnamed: 0</th>\n",
       "      <th>music</th>\n",
       "      <th>pets</th>\n",
       "      <th>flying</th>\n",
       "      <th>storm</th>\n",
       "      <th>darkness</th>\n",
       "      <th>heights</th>\n",
       "      <th>spiders</th>\n",
       "      <th>snakes</th>\n",
       "      <th>rats</th>\n",
       "      <th>...</th>\n",
       "      <th>dangerous_dogs</th>\n",
       "      <th>fear_of_public_speaking</th>\n",
       "      <th>smoking</th>\n",
       "      <th>alcohol</th>\n",
       "      <th>parents'_advice</th>\n",
       "      <th>internet_usage</th>\n",
       "      <th>branded_clothing</th>\n",
       "      <th>gender</th>\n",
       "      <th>left_-_right_handed</th>\n",
       "      <th>only_child</th>\n",
       "    </tr>\n",
       "  </thead>\n",
       "  <tbody>\n",
       "    <tr>\n",
       "      <td>0</td>\n",
       "      <td>0</td>\n",
       "      <td>5.0</td>\n",
       "      <td>4.0</td>\n",
       "      <td>1.0</td>\n",
       "      <td>1.0</td>\n",
       "      <td>1.0</td>\n",
       "      <td>1.0</td>\n",
       "      <td>1.0</td>\n",
       "      <td>5</td>\n",
       "      <td>3.0</td>\n",
       "      <td>...</td>\n",
       "      <td>3.0</td>\n",
       "      <td>2.0</td>\n",
       "      <td>never smoked</td>\n",
       "      <td>drink a lot</td>\n",
       "      <td>4.0</td>\n",
       "      <td>few hours a day</td>\n",
       "      <td>5.0</td>\n",
       "      <td>female</td>\n",
       "      <td>right handed</td>\n",
       "      <td>no</td>\n",
       "    </tr>\n",
       "    <tr>\n",
       "      <td>1</td>\n",
       "      <td>1</td>\n",
       "      <td>4.0</td>\n",
       "      <td>5.0</td>\n",
       "      <td>1.0</td>\n",
       "      <td>1.0</td>\n",
       "      <td>1.0</td>\n",
       "      <td>2.0</td>\n",
       "      <td>1.0</td>\n",
       "      <td>1</td>\n",
       "      <td>1.0</td>\n",
       "      <td>...</td>\n",
       "      <td>1.0</td>\n",
       "      <td>4.0</td>\n",
       "      <td>never smoked</td>\n",
       "      <td>drink a lot</td>\n",
       "      <td>2.0</td>\n",
       "      <td>few hours a day</td>\n",
       "      <td>1.0</td>\n",
       "      <td>female</td>\n",
       "      <td>right handed</td>\n",
       "      <td>no</td>\n",
       "    </tr>\n",
       "    <tr>\n",
       "      <td>2</td>\n",
       "      <td>2</td>\n",
       "      <td>5.0</td>\n",
       "      <td>5.0</td>\n",
       "      <td>1.0</td>\n",
       "      <td>1.0</td>\n",
       "      <td>1.0</td>\n",
       "      <td>1.0</td>\n",
       "      <td>1.0</td>\n",
       "      <td>1</td>\n",
       "      <td>1.0</td>\n",
       "      <td>...</td>\n",
       "      <td>1.0</td>\n",
       "      <td>2.0</td>\n",
       "      <td>tried smoking</td>\n",
       "      <td>drink a lot</td>\n",
       "      <td>3.0</td>\n",
       "      <td>few hours a day</td>\n",
       "      <td>1.0</td>\n",
       "      <td>female</td>\n",
       "      <td>right handed</td>\n",
       "      <td>no</td>\n",
       "    </tr>\n",
       "    <tr>\n",
       "      <td>3</td>\n",
       "      <td>3</td>\n",
       "      <td>5.0</td>\n",
       "      <td>1.0</td>\n",
       "      <td>2.0</td>\n",
       "      <td>1.0</td>\n",
       "      <td>1.0</td>\n",
       "      <td>3.0</td>\n",
       "      <td>5.0</td>\n",
       "      <td>5</td>\n",
       "      <td>5.0</td>\n",
       "      <td>...</td>\n",
       "      <td>5.0</td>\n",
       "      <td>5.0</td>\n",
       "      <td>former smoker</td>\n",
       "      <td>drink a lot</td>\n",
       "      <td>2.0</td>\n",
       "      <td>most of the day</td>\n",
       "      <td>3.0</td>\n",
       "      <td>female</td>\n",
       "      <td>right handed</td>\n",
       "      <td>yes</td>\n",
       "    </tr>\n",
       "    <tr>\n",
       "      <td>4</td>\n",
       "      <td>4</td>\n",
       "      <td>5.0</td>\n",
       "      <td>1.0</td>\n",
       "      <td>1.0</td>\n",
       "      <td>2.0</td>\n",
       "      <td>1.0</td>\n",
       "      <td>1.0</td>\n",
       "      <td>1.0</td>\n",
       "      <td>1</td>\n",
       "      <td>2.0</td>\n",
       "      <td>...</td>\n",
       "      <td>4.0</td>\n",
       "      <td>3.0</td>\n",
       "      <td>tried smoking</td>\n",
       "      <td>social drinker</td>\n",
       "      <td>3.0</td>\n",
       "      <td>few hours a day</td>\n",
       "      <td>4.0</td>\n",
       "      <td>female</td>\n",
       "      <td>right handed</td>\n",
       "      <td>no</td>\n",
       "    </tr>\n",
       "  </tbody>\n",
       "</table>\n",
       "<p>5 rows × 21 columns</p>\n",
       "</div>"
      ],
      "text/plain": [
       "   Unnamed: 0  music  pets  flying  storm  darkness  heights  spiders  snakes  \\\n",
       "0           0    5.0   4.0     1.0    1.0       1.0      1.0      1.0       5   \n",
       "1           1    4.0   5.0     1.0    1.0       1.0      2.0      1.0       1   \n",
       "2           2    5.0   5.0     1.0    1.0       1.0      1.0      1.0       1   \n",
       "3           3    5.0   1.0     2.0    1.0       1.0      3.0      5.0       5   \n",
       "4           4    5.0   1.0     1.0    2.0       1.0      1.0      1.0       1   \n",
       "\n",
       "   rats  ...  dangerous_dogs  fear_of_public_speaking        smoking  \\\n",
       "0   3.0  ...             3.0                      2.0   never smoked   \n",
       "1   1.0  ...             1.0                      4.0   never smoked   \n",
       "2   1.0  ...             1.0                      2.0  tried smoking   \n",
       "3   5.0  ...             5.0                      5.0  former smoker   \n",
       "4   2.0  ...             4.0                      3.0  tried smoking   \n",
       "\n",
       "          alcohol parents'_advice   internet_usage branded_clothing  gender  \\\n",
       "0     drink a lot             4.0  few hours a day              5.0  female   \n",
       "1     drink a lot             2.0  few hours a day              1.0  female   \n",
       "2     drink a lot             3.0  few hours a day              1.0  female   \n",
       "3     drink a lot             2.0  most of the day              3.0  female   \n",
       "4  social drinker             3.0  few hours a day              4.0  female   \n",
       "\n",
       "  left_-_right_handed only_child  \n",
       "0        right handed         no  \n",
       "1        right handed         no  \n",
       "2        right handed         no  \n",
       "3        right handed        yes  \n",
       "4        right handed         no  \n",
       "\n",
       "[5 rows x 21 columns]"
      ]
     },
     "execution_count": 8,
     "metadata": {},
     "output_type": "execute_result"
    }
   ],
   "source": [
    "df.head()\n"
   ]
  },
  {
   "cell_type": "markdown",
   "metadata": {},
   "source": [
    "# data Preparation\n",
    "\n",
    "Subset the data to include just what you need to analyze"
   ]
  },
  {
   "cell_type": "code",
   "execution_count": 16,
   "metadata": {},
   "outputs": [
    {
     "data": {
      "text/html": [
       "<div>\n",
       "<style scoped>\n",
       "    .dataframe tbody tr th:only-of-type {\n",
       "        vertical-align: middle;\n",
       "    }\n",
       "\n",
       "    .dataframe tbody tr th {\n",
       "        vertical-align: top;\n",
       "    }\n",
       "\n",
       "    .dataframe thead th {\n",
       "        text-align: right;\n",
       "    }\n",
       "</style>\n",
       "<table border=\"1\" class=\"dataframe\">\n",
       "  <thead>\n",
       "    <tr style=\"text-align: right;\">\n",
       "      <th></th>\n",
       "      <th>gender</th>\n",
       "      <th>variable</th>\n",
       "      <th>value</th>\n",
       "    </tr>\n",
       "  </thead>\n",
       "  <tbody>\n",
       "    <tr>\n",
       "      <td>0</td>\n",
       "      <td>female</td>\n",
       "      <td>flying</td>\n",
       "      <td>1.0</td>\n",
       "    </tr>\n",
       "    <tr>\n",
       "      <td>1</td>\n",
       "      <td>female</td>\n",
       "      <td>flying</td>\n",
       "      <td>1.0</td>\n",
       "    </tr>\n",
       "    <tr>\n",
       "      <td>2</td>\n",
       "      <td>female</td>\n",
       "      <td>flying</td>\n",
       "      <td>1.0</td>\n",
       "    </tr>\n",
       "    <tr>\n",
       "      <td>3</td>\n",
       "      <td>female</td>\n",
       "      <td>flying</td>\n",
       "      <td>2.0</td>\n",
       "    </tr>\n",
       "    <tr>\n",
       "      <td>4</td>\n",
       "      <td>female</td>\n",
       "      <td>flying</td>\n",
       "      <td>1.0</td>\n",
       "    </tr>\n",
       "  </tbody>\n",
       "</table>\n",
       "</div>"
      ],
      "text/plain": [
       "   gender variable  value\n",
       "0  female   flying    1.0\n",
       "1  female   flying    1.0\n",
       "2  female   flying    1.0\n",
       "3  female   flying    2.0\n",
       "4  female   flying    1.0"
      ]
     },
     "execution_count": 16,
     "metadata": {},
     "output_type": "execute_result"
    }
   ],
   "source": [
    "Phobias = ['flying', 'storm', 'darkness', 'heights', 'spiders',\n",
    "       'snakes', 'rats', 'ageing', 'dangerous_dogs', 'fear_of_public_speaking','gender']\n",
    "new = df[Phobias]\n",
    "new.head()\n",
    "\n"
   ]
  },
  {
   "cell_type": "markdown",
   "metadata": {},
   "source": [
    "# Prepare the data\n",
    "\n",
    "you need to melt the data for easier evaluation,\n",
    "\n",
    "you will also need to use the \"size\" function to get the counts per each group"
   ]
  },
  {
   "cell_type": "code",
   "execution_count": null,
   "metadata": {},
   "outputs": [],
   "source": [
    "melts = pd.melt(new,id_vars = \"gender\")\n",
    "melts.head()"
   ]
  },
  {
   "cell_type": "code",
   "execution_count": 37,
   "metadata": {},
   "outputs": [
    {
     "data": {
      "text/html": [
       "<div>\n",
       "<style scoped>\n",
       "    .dataframe tbody tr th:only-of-type {\n",
       "        vertical-align: middle;\n",
       "    }\n",
       "\n",
       "    .dataframe tbody tr th {\n",
       "        vertical-align: top;\n",
       "    }\n",
       "\n",
       "    .dataframe thead th {\n",
       "        text-align: right;\n",
       "    }\n",
       "</style>\n",
       "<table border=\"1\" class=\"dataframe\">\n",
       "  <thead>\n",
       "    <tr style=\"text-align: right;\">\n",
       "      <th></th>\n",
       "      <th>value</th>\n",
       "      <th>variable</th>\n",
       "      <th>gender</th>\n",
       "      <th>counts</th>\n",
       "    </tr>\n",
       "  </thead>\n",
       "  <tbody>\n",
       "    <tr>\n",
       "      <td>0</td>\n",
       "      <td>1.0</td>\n",
       "      <td>ageing</td>\n",
       "      <td>female</td>\n",
       "      <td>153</td>\n",
       "    </tr>\n",
       "    <tr>\n",
       "      <td>1</td>\n",
       "      <td>1.0</td>\n",
       "      <td>ageing</td>\n",
       "      <td>male</td>\n",
       "      <td>161</td>\n",
       "    </tr>\n",
       "    <tr>\n",
       "      <td>2</td>\n",
       "      <td>1.0</td>\n",
       "      <td>dangerous_dogs</td>\n",
       "      <td>female</td>\n",
       "      <td>87</td>\n",
       "    </tr>\n",
       "    <tr>\n",
       "      <td>3</td>\n",
       "      <td>1.0</td>\n",
       "      <td>dangerous_dogs</td>\n",
       "      <td>male</td>\n",
       "      <td>91</td>\n",
       "    </tr>\n",
       "    <tr>\n",
       "      <td>4</td>\n",
       "      <td>1.0</td>\n",
       "      <td>darkness</td>\n",
       "      <td>female</td>\n",
       "      <td>152</td>\n",
       "    </tr>\n",
       "  </tbody>\n",
       "</table>\n",
       "</div>"
      ],
      "text/plain": [
       "   value        variable  gender  counts\n",
       "0    1.0          ageing  female     153\n",
       "1    1.0          ageing    male     161\n",
       "2    1.0  dangerous_dogs  female      87\n",
       "3    1.0  dangerous_dogs    male      91\n",
       "4    1.0        darkness  female     152"
      ]
     },
     "execution_count": 37,
     "metadata": {},
     "output_type": "execute_result"
    }
   ],
   "source": [
    "j = melts.groupby([\"value\",\"variable\",\"gender\"]).size().reset_index(name='counts')\n",
    "j.head()"
   ]
  },
  {
   "cell_type": "markdown",
   "metadata": {},
   "source": [
    "# Stacked Plots\n",
    "\n",
    "I would suggest that you use ggplot library from R for stacked plots -  its the best. Matplotlib is really waeak at stacked plots and seaborn only brings back grouped plots, so the first graph is a stacked plot using R library in Python.\n",
    "\n",
    "The second graph is a grouped plot in seaborn"
   ]
  },
  {
   "cell_type": "code",
   "execution_count": 69,
   "metadata": {},
   "outputs": [
    {
     "data": {
      "image/png": "[encoded data removed]",
      "text/plain": [
       "<Figure size 640x480 with 2 Axes>"
      ]
     },
     "metadata": {},
     "output_type": "display_data"
    },
    {
     "data": {
      "text/plain": [
       "<ggplot: (-9223371893118405779)>"
      ]
     },
     "execution_count": 69,
     "metadata": {},
     "output_type": "execute_result"
    }
   ],
   "source": [
    "from plotnine import *\n",
    "\n",
    "(\n",
    "    ggplot(j,aes(x = \"variable\",y = \"counts\",fill = \"value\"))+\n",
    "    geom_bar(stat = \"identity\",position = \"fill\")+\n",
    "    coord_flip()+\n",
    "    facet_grid(\"~gender\")\n",
    ")"
   ]
  },
  {
   "cell_type": "code",
   "execution_count": 74,
   "metadata": {},
   "outputs": [
    {
     "data": {
      "text/plain": [
       "<seaborn.axisgrid.FacetGrid at 0x21775fe1a58>"
      ]
     },
     "execution_count": 74,
     "metadata": {},
     "output_type": "execute_result"
    },
    {
     "data": {
      "image/png": "[encoded data removed]",
      "text/plain": [
       "<Figure size 1870.5x360 with 5 Axes>"
      ]
     },
     "metadata": {
      "needs_background": "light"
     },
     "output_type": "display_data"
    }
   ],
   "source": [
    "import matplotlib.pyplot as plt\n",
    "%matplotlib inline\n",
    "import seaborn as sns\n",
    "sns.catplot(data = j,\n",
    "           y = \"variable\",\n",
    "           x = \"counts\",\n",
    "           hue = \"gender\",\n",
    "           col = \"value\",\n",
    "           kind = \"bar\",\n",
    "           #stacked = True\n",
    "           )"
   ]
  },
  {
   "cell_type": "code",
   "execution_count": 79,
   "metadata": {},
   "outputs": [
    {
     "name": "stdout",
     "output_type": "stream",
     "text": [
      "Reinitialized existing Git repository in C:/Users/Maria/Documents/Wakufunzi/.git/\n",
      "On branch master\n",
      "nothing to commit, working tree clean\n",
      "Branch 'master' set up to track remote branch 'master' from 'origin'.\n"
     ]
    },
    {
     "name": "stderr",
     "output_type": "stream",
     "text": [
      "To https://github.com/sophicist/Lydia-Stuff.git\n",
      " * [new branch]      master -> master\n"
     ]
    }
   ],
   "source": [
    "!git init\n",
    "!git add .\n",
    "!git commit -m \"Lydia Data\"\n",
    "!git remote add origin https://github.com/sophicist/Lydia-Stuff.git\n",
    "!git push -u origin master"
   ]
  },
  {
   "cell_type": "code",
   "execution_count": null,
   "metadata": {},
   "outputs": [],
   "source": []
  }
 ],
 "metadata": {
  "kernelspec": {
   "display_name": "Python 3",
   "language": "python",
   "name": "python3"
  },
  "language_info": {
   "codemirror_mode": {
    "name": "ipython",
    "version": 3
   },
   "file_extension": ".py",
   "mimetype": "text/x-python",
   "name": "python",
   "nbconvert_exporter": "python",
   "pygments_lexer": "ipython3",
   "version": "3.7.1"
  }
 },
 "nbformat": 4,
 "nbformat_minor": 2
}
